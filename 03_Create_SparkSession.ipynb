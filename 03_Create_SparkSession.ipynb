{
  "cells": [
    {
      "cell_type": "markdown",
      "metadata": {
        "id": "view-in-github",
        "colab_type": "text"
      },
      "source": [
        "<a href=\"https://colab.research.google.com/github/kaushikmupadhya/10-days-of-statistics/blob/master/03_Create_SparkSession.ipynb\" target=\"_parent\"><img src=\"https://colab.research.google.com/assets/colab-badge.svg\" alt=\"Open In Colab\"/></a>"
      ]
    },
    {
      "cell_type": "code",
      "execution_count": 5,
      "id": "5f80ab89-af0e-4139-8f6a-0a382310f34c",
      "metadata": {
        "id": "5f80ab89-af0e-4139-8f6a-0a382310f34c"
      },
      "outputs": [],
      "source": [
        "# Set the PySpark environment variables\n",
        "import os\n",
        "os.environ['SPARK_HOME'] = \"/usr/local/lib/python3.10/dist-packages/pyspark\"\n",
        "os.environ['PYSPARK_DRIVER_PYTHON'] = 'jupyter'\n",
        "os.environ['PYSPARK_DRIVER_PYTHON_OPTS'] = 'notebook'\n",
        "os.environ['PYSPARK_PYTHON'] = 'python'"
      ]
    },
    {
      "cell_type": "markdown",
      "id": "ee8d77ba-685b-4c20-8c09-ee2b2fc44abd",
      "metadata": {
        "id": "ee8d77ba-685b-4c20-8c09-ee2b2fc44abd"
      },
      "source": [
        "## Create SparkSession in Apache Spark"
      ]
    },
    {
      "cell_type": "code",
      "execution_count": 6,
      "id": "1df25dc4-3ffc-490d-9c03-d022cb2e7235",
      "metadata": {
        "colab": {
          "base_uri": "https://localhost:8080/"
        },
        "id": "1df25dc4-3ffc-490d-9c03-d022cb2e7235",
        "outputId": "4c6195b1-63c8-4607-8a08-2cad4f014581"
      },
      "outputs": [
        {
          "output_type": "stream",
          "name": "stdout",
          "text": [
            "Requirement already satisfied: pyspark in /usr/local/lib/python3.10/dist-packages (3.5.1)\n",
            "Requirement already satisfied: py4j==0.10.9.7 in /usr/local/lib/python3.10/dist-packages (from pyspark) (0.10.9.7)\n"
          ]
        }
      ],
      "source": [
        "!pip install pyspark\n",
        "\n",
        "from pyspark.sql import SparkSession\n",
        "\n",
        "# Create a SparkSession\n",
        "spark = SparkSession.builder \\\n",
        "    .appName(\"MySparkApplication\") \\\n",
        "    .config(\"spark.executor.memory\", \"2g\") \\\n",
        "    .config(\"spark.sql.shuffle.partitions\", \"4\") \\\n",
        "    .getOrCreate()"
      ]
    },
    {
      "cell_type": "code",
      "execution_count": null,
      "id": "db19ae45-2c01-408b-b807-f883a2d796c3",
      "metadata": {
        "id": "db19ae45-2c01-408b-b807-f883a2d796c3",
        "outputId": "231a7423-fe34-4f13-8844-84f4883ca5f4"
      },
      "outputs": [
        {
          "data": {
            "text/html": [
              "\n",
              "            <div>\n",
              "                <p><b>SparkSession - in-memory</b></p>\n",
              "                \n",
              "        <div>\n",
              "            <p><b>SparkContext</b></p>\n",
              "\n",
              "            <p><a href=\"http://imac.fritz.box:4040\">Spark UI</a></p>\n",
              "\n",
              "            <dl>\n",
              "              <dt>Version</dt>\n",
              "                <dd><code>v3.4.1</code></dd>\n",
              "              <dt>Master</dt>\n",
              "                <dd><code>local[*]</code></dd>\n",
              "              <dt>AppName</dt>\n",
              "                <dd><code>MySparkApplication</code></dd>\n",
              "            </dl>\n",
              "        </div>\n",
              "        \n",
              "            </div>\n",
              "        "
            ],
            "text/plain": [
              "<pyspark.sql.session.SparkSession at 0x10bb6e170>"
            ]
          },
          "execution_count": 5,
          "metadata": {},
          "output_type": "execute_result"
        }
      ],
      "source": [
        "# Perform operations using the SparkSession\n",
        "spark"
      ]
    },
    {
      "cell_type": "code",
      "execution_count": 7,
      "id": "d0c09484-8c96-4c73-9dde-cd8587b0c80f",
      "metadata": {
        "id": "d0c09484-8c96-4c73-9dde-cd8587b0c80f"
      },
      "outputs": [],
      "source": [
        "# Shut down the current active SparkSession\n",
        "spark.stop()"
      ]
    },
    {
      "cell_type": "markdown",
      "id": "f11e547f-54bd-43ee-b051-6722802bd567",
      "metadata": {
        "id": "f11e547f-54bd-43ee-b051-6722802bd567"
      },
      "source": []
    }
  ],
  "metadata": {
    "kernelspec": {
      "display_name": "Python 3 (ipykernel)",
      "language": "python",
      "name": "python3"
    },
    "language_info": {
      "codemirror_mode": {
        "name": "ipython",
        "version": 3
      },
      "file_extension": ".py",
      "mimetype": "text/x-python",
      "name": "python",
      "nbconvert_exporter": "python",
      "pygments_lexer": "ipython3",
      "version": "3.10.8"
    },
    "colab": {
      "provenance": [],
      "include_colab_link": true
    }
  },
  "nbformat": 4,
  "nbformat_minor": 5
}